{
 "cells": [
  {
   "cell_type": "markdown",
   "metadata": {},
   "source": [
    "Решение задач STEPIK"
   ]
  },
  {
   "cell_type": "code",
   "execution_count": 13,
   "metadata": {},
   "outputs": [
    {
     "name": "stdout",
     "output_type": "stream",
     "text": [
      "566\n"
     ]
    }
   ],
   "source": [
    "n = int(input())\n",
    "if n % 2 == 1:\n",
    "    print(n // 2 + 1)\n",
    "else:\n",
    "    print(n // 2)"
   ]
  },
  {
   "cell_type": "code",
   "execution_count": 23,
   "metadata": {},
   "outputs": [
    {
     "name": "stdout",
     "output_type": "stream",
     "text": [
      "150 мин - это 2 час 30 минут\n"
     ]
    }
   ],
   "source": [
    "a = int(input())\n",
    "if a % 60 == 0:\n",
    "    print(a, 'мин', '-', 'это',a // 60, 'час', a % 60, 'минут.')\n",
    "else:\n",
    "    print(a,'мин', '-', 'это',a // 60, 'час',a % 60,'минут.')"
   ]
  },
  {
   "cell_type": "code",
   "execution_count": 2,
   "metadata": {},
   "outputs": [
    {
     "name": "stdout",
     "output_type": "stream",
     "text": [
      "Не принадлежит\n"
     ]
    }
   ],
   "source": [
    "a = int(input())\n",
    "if -1 < a and a < 17:\n",
    "    print('Принадлежит')\n",
    "else:\n",
    "    print('Не','принадлежит')"
   ]
  },
  {
   "cell_type": "code",
   "execution_count": null,
   "metadata": {},
   "outputs": [],
   "source": [
    "word1,word2,word3 = len(input()), len(input()),len(input())\n",
    "if (2 * word1 - word2 - word3) * (2 * word2 - word1 - word3) * (2 * word3 - word1 - word2) == 0:\n",
    "    print('YES')\n",
    "else:\n",
    "    print('NO')"
   ]
  },
  {
   "cell_type": "code",
   "execution_count": 4,
   "metadata": {},
   "outputs": [
    {
     "name": "stdout",
     "output_type": "stream",
     "text": [
      "YES\n"
     ]
    }
   ],
   "source": [
    "stroka = input()\n",
    "if 'суббота' in stroka or 'воскресенье' in stroka: print('YES')\n",
    "else: print('NO')"
   ]
  },
  {
   "cell_type": "code",
   "execution_count": null,
   "metadata": {},
   "outputs": [],
   "source": [
    "email = input()\n",
    "if '@' in email and '.' in email: print('YES')\n",
    "else: print('NO')"
   ]
  },
  {
   "cell_type": "code",
   "execution_count": null,
   "metadata": {},
   "outputs": [],
   "source": [
    "import math\n",
    "x1,x2,y1,y2 = float(input()), float(input()), float(input()), float(input())\n",
    "print (math.sqrt())"
   ]
  },
  {
   "cell_type": "code",
   "execution_count": null,
   "metadata": {},
   "outputs": [],
   "source": [
    "for a in range(6):\n",
    "    print('AAA')\n",
    "for b in range(5):\n",
    "    print('BBBB')\n",
    "print('E')\n",
    "for t in range(9):\n",
    "    print('TTTT')\n",
    "print('G')"
   ]
  },
  {
   "cell_type": "code",
   "execution_count": null,
   "metadata": {},
   "outputs": [],
   "source": [
    "n = int(input())\n",
    "for i in range(n):\n",
    "    print('*' * 19)"
   ]
  },
  {
   "cell_type": "code",
   "execution_count": null,
   "metadata": {},
   "outputs": [],
   "source": [
    "name = input()\n",
    "for i in range(10):\n",
    "    print(i,name)"
   ]
  },
  {
   "cell_type": "code",
   "execution_count": 13,
   "metadata": {},
   "outputs": [
    {
     "name": "stdout",
     "output_type": "stream",
     "text": [
      "Квадрат числа 0 равен 0\n",
      "Квадрат числа 1 равен 1\n",
      "Квадрат числа 2 равен 4\n",
      "Квадрат числа 3 равен 9\n"
     ]
    }
   ],
   "source": [
    "n = int(input())\n",
    "for i in range(n + 1):\n",
    "    print('Квадрат числа', i, 'равен', i ** 2)"
   ]
  },
  {
   "cell_type": "code",
   "execution_count": null,
   "metadata": {},
   "outputs": [],
   "source": [
    "m,n = int(input()), int(input())\n",
    "for m in range(m, n + 1):\n",
    "    print(m)"
   ]
  },
  {
   "cell_type": "code",
   "execution_count": null,
   "metadata": {},
   "outputs": [],
   "source": [
    "a,b = int(input()), int(input())\n",
    "cnt = 0\n",
    "for i in range(a,b+1):\n",
    "    if i ** 3 % 10 == 4 or i ** 3 % 10 == 9:\n",
    "        cnt += 1 \n",
    "print(cnt)"
   ]
  },
  {
   "cell_type": "code",
   "execution_count": 16,
   "metadata": {},
   "outputs": [
    {
     "name": "stdout",
     "output_type": "stream",
     "text": [
      "6\n"
     ]
    }
   ],
   "source": [
    "n = int(input())\n",
    "cnt = 0 \n",
    "for _ in range(n):\n",
    "    num = int(input())\n",
    "    cnt += num\n",
    "print(cnt)"
   ]
  },
  {
   "cell_type": "code",
   "execution_count": 20,
   "metadata": {},
   "outputs": [
    {
     "name": "stdout",
     "output_type": "stream",
     "text": [
      "0.6263831609742079\n"
     ]
    }
   ],
   "source": [
    "from math import *\n",
    "cnt = 0 \n",
    "n = int(input())\n",
    "for i in range(1,n + 1):\n",
    "    cnt += 1 / i\n",
    "print(cnt - math.log(n))"
   ]
  },
  {
   "cell_type": "code",
   "execution_count": 21,
   "metadata": {},
   "outputs": [
    {
     "name": "stdout",
     "output_type": "stream",
     "text": [
      "5\n"
     ]
    }
   ],
   "source": [
    "n = int(input())\n",
    "cnt = 0 \n",
    "for i in range(1, n + 1):\n",
    "    if i ** 2 % 10 == 2 or i ** 2 % 10 == 5 or i ** 2 % 10 == 8:\n",
    "        cnt += i \n",
    "print(cnt)"
   ]
  },
  {
   "cell_type": "code",
   "execution_count": 25,
   "metadata": {},
   "outputs": [
    {
     "name": "stdout",
     "output_type": "stream",
     "text": [
      "6\n"
     ]
    }
   ],
   "source": [
    "n = int(input())\n",
    "cnt = 1 \n",
    "for i in range(1,n + 1):\n",
    "    cnt *= i\n",
    "print(cnt)"
   ]
  },
  {
   "cell_type": "code",
   "execution_count": 30,
   "metadata": {},
   "outputs": [
    {
     "name": "stdout",
     "output_type": "stream",
     "text": [
      "3840\n"
     ]
    }
   ],
   "source": [
    "cnt = 1 \n",
    "for _ in range(10):\n",
    "    n = int(input())\n",
    "    if n != 0:\n",
    "        cnt *= n \n",
    "print(cnt)"
   ]
  },
  {
   "cell_type": "code",
   "execution_count": 38,
   "metadata": {},
   "outputs": [
    {
     "name": "stdout",
     "output_type": "stream",
     "text": [
      "18\n"
     ]
    }
   ],
   "source": [
    "n = int(input())\n",
    "sum_delitei = 0\n",
    "for i in range(1,n + 1):\n",
    "    if n % i == 0:\n",
    "        sum_delitei += i\n",
    "print(sum_delitei)"
   ]
  },
  {
   "cell_type": "code",
   "execution_count": 40,
   "metadata": {},
   "outputs": [
    {
     "name": "stdout",
     "output_type": "stream",
     "text": [
      "3\n"
     ]
    }
   ],
   "source": [
    "n = int(input())\n",
    "cnt = 0 \n",
    "for i in range(1, n + 1):\n",
    "    if i % 2 != 0:\n",
    "        cnt += i\n",
    "    else:\n",
    "        cnt -= i \n",
    "print(cnt)"
   ]
  },
  {
   "cell_type": "code",
   "execution_count": null,
   "metadata": {},
   "outputs": [],
   "source": [
    "max1,max2 = 0,0\n",
    "n = int(input())\n",
    "for i in range(n):\n",
    "    x = int(input())\n",
    "    if x > max1: max1,max2 = x,max1\n",
    "    elif x > max2: max2 = x\n",
    "print(max1,max2)"
   ]
  },
  {
   "cell_type": "code",
   "execution_count": 56,
   "metadata": {},
   "outputs": [
    {
     "name": "stdout",
     "output_type": "stream",
     "text": [
      "NO\n"
     ]
    }
   ],
   "source": [
    "cnt = 0\n",
    "for i in range(1, 11):\n",
    "    x = int(input())\n",
    "    if x % 2 == 0:\n",
    "        cnt += 1\n",
    "if cnt == 10:\n",
    "    print('YES')\n",
    "else:\n",
    "    print('NO')"
   ]
  },
  {
   "cell_type": "code",
   "execution_count": null,
   "metadata": {},
   "outputs": [],
   "source": [
    "n = int(input())\n",
    "x1,x2 = 1,1\n",
    "for i in range(n):\n",
    "    print(x1,end=' ')\n",
    "    x1, x2 = x2,x1 + x2\n",
    "\n",
    "\n"
   ]
  }
 ],
 "metadata": {
  "kernelspec": {
   "display_name": "Python 3",
   "language": "python",
   "name": "python3"
  },
  "language_info": {
   "codemirror_mode": {
    "name": "ipython",
    "version": 3
   },
   "file_extension": ".py",
   "mimetype": "text/x-python",
   "name": "python",
   "nbconvert_exporter": "python",
   "pygments_lexer": "ipython3",
   "version": "3.10.6"
  }
 },
 "nbformat": 4,
 "nbformat_minor": 2
}
